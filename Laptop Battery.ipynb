{
 "cells": [
  {
   "cell_type": "code",
   "execution_count": 1,
   "metadata": {
    "collapsed": true
   },
   "outputs": [],
   "source": [
    "#To read and understand the input data\n",
    "input_data = open('input.txt')\n",
    "input_tuples = input_data.read().split('\\n')[:-1]\n",
    "for i in range(len(input_tuples)):\n",
    "    row = input_tuples[i].split(',')\n",
    "    input_tuples[i] = [float(row[0]), float(row[1])]\n",
    "input_tuples = sorted(input_tuples,key=lambda l:l[0], reverse=False)"
   ]
  },
  {
   "cell_type": "code",
   "execution_count": 2,
   "metadata": {},
   "outputs": [
    {
     "data": {
      "text/plain": [
       "[[0.0, 0.0],\n",
       " [0.02, 0.04],\n",
       " [0.13, 0.26],\n",
       " [0.14, 0.28],\n",
       " [0.39, 0.78],\n",
       " [0.8, 1.6],\n",
       " [1.1, 2.2],\n",
       " [1.11, 2.22],\n",
       " [1.14, 2.28],\n",
       " [1.26, 2.52],\n",
       " [1.27, 2.54],\n",
       " [1.44, 2.88],\n",
       " [1.58, 3.16],\n",
       " [1.58, 3.16],\n",
       " [1.66, 3.32],\n",
       " [1.75, 3.5],\n",
       " [1.76, 3.52],\n",
       " [1.78, 3.56],\n",
       " [1.83, 3.66],\n",
       " [1.83, 3.66],\n",
       " [1.85, 3.7],\n",
       " [1.89, 3.78],\n",
       " [1.9, 3.8],\n",
       " [1.98, 3.96],\n",
       " [1.98, 3.96],\n",
       " [1.99, 3.98],\n",
       " [2.0, 4.0],\n",
       " [2.04, 4.08],\n",
       " [2.06, 4.12],\n",
       " [2.15, 4.3],\n",
       " [2.16, 4.32],\n",
       " [2.24, 4.48],\n",
       " [2.33, 4.66],\n",
       " [2.58, 5.16],\n",
       " [2.72, 5.44],\n",
       " [2.81, 5.62],\n",
       " [3.42, 6.84],\n",
       " [3.45, 6.9],\n",
       " [3.47, 6.94],\n",
       " [3.53, 7.06],\n",
       " [3.65, 7.3],\n",
       " [3.77, 7.54],\n",
       " [3.87, 7.74],\n",
       " [3.97, 7.94],\n",
       " [3.97, 7.94],\n",
       " [3.99, 7.98],\n",
       " [4.11, 8.0],\n",
       " [4.15, 8.0],\n",
       " [4.35, 8.0],\n",
       " [4.37, 8.0],\n",
       " [4.38, 8.0],\n",
       " [4.39, 8.0],\n",
       " [4.61, 8.0],\n",
       " [4.64, 8.0],\n",
       " [4.71, 8.0],\n",
       " [4.87, 8.0],\n",
       " [4.93, 8.0],\n",
       " [5.26, 8.0],\n",
       " [5.31, 8.0],\n",
       " [5.33, 8.0],\n",
       " [5.39, 8.0],\n",
       " [5.47, 8.0],\n",
       " [5.5, 8.0],\n",
       " [5.55, 8.0],\n",
       " [5.58, 8.0],\n",
       " [5.68, 8.0],\n",
       " [5.75, 8.0],\n",
       " [5.77, 8.0],\n",
       " [5.94, 8.0],\n",
       " [5.96, 8.0],\n",
       " [6.05, 8.0],\n",
       " [6.13, 8.0],\n",
       " [6.37, 8.0],\n",
       " [6.39, 8.0],\n",
       " [6.48, 8.0],\n",
       " [6.65, 8.0],\n",
       " [6.71, 8.0],\n",
       " [7.02, 8.0],\n",
       " [7.14, 8.0],\n",
       " [7.37, 8.0],\n",
       " [7.53, 8.0],\n",
       " [7.79, 8.0],\n",
       " [7.8, 8.0],\n",
       " [7.82, 8.0],\n",
       " [8.05, 8.0],\n",
       " [8.06, 8.0],\n",
       " [8.08, 8.0],\n",
       " [8.21, 8.0],\n",
       " [8.38, 8.0],\n",
       " [8.43, 8.0],\n",
       " [8.49, 8.0],\n",
       " [8.79, 8.0],\n",
       " [9.13, 8.0],\n",
       " [9.15, 8.0],\n",
       " [9.2, 8.0],\n",
       " [9.29, 8.0],\n",
       " [9.33, 8.0],\n",
       " [9.69, 8.0],\n",
       " [9.71, 8.0],\n",
       " [11.72, 8.0]]"
      ]
     },
     "execution_count": 2,
     "metadata": {},
     "output_type": "execute_result"
    }
   ],
   "source": [
    "input_tuples"
   ]
  },
  {
   "cell_type": "markdown",
   "metadata": {},
   "source": [
    "# Based on data"
   ]
  },
  {
   "cell_type": "code",
   "execution_count": 3,
   "metadata": {
    "collapsed": true
   },
   "outputs": [],
   "source": [
    "#function to achieve the use case\n",
    "def get_runtime(charging_time):\n",
    "    if charging_time>=4.0:\n",
    "        return 8.0\n",
    "    else:\n",
    "        return charging_time*2"
   ]
  },
  {
   "cell_type": "code",
   "execution_count": 4,
   "metadata": {},
   "outputs": [
    {
     "data": {
      "text/plain": [
       "8.0"
      ]
     },
     "execution_count": 4,
     "metadata": {},
     "output_type": "execute_result"
    }
   ],
   "source": [
    "#pass the charging time in get_runtime function\n",
    "get_runtime(6)"
   ]
  },
  {
   "cell_type": "code",
   "execution_count": null,
   "metadata": {
    "collapsed": true
   },
   "outputs": [],
   "source": []
  }
 ],
 "metadata": {
  "kernelspec": {
   "display_name": "Python 3",
   "language": "python",
   "name": "python3"
  },
  "language_info": {
   "codemirror_mode": {
    "name": "ipython",
    "version": 3
   },
   "file_extension": ".py",
   "mimetype": "text/x-python",
   "name": "python",
   "nbconvert_exporter": "python",
   "pygments_lexer": "ipython3",
   "version": "3.7.4"
  }
 },
 "nbformat": 4,
 "nbformat_minor": 2
}
